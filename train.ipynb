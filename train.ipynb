{
 "cells": [
  {
   "cell_type": "code",
   "execution_count": null,
   "metadata": {},
   "outputs": [],
   "source": [
    "!unzip custom_hopper.zip"
   ]
  },
  {
   "cell_type": "code",
   "execution_count": 38,
   "metadata": {},
   "outputs": [],
   "source": [
    "import gym\n",
    "from stable_baselines3 import SAC\n",
    "from env.custom_hopper import *\n",
    "from stable_baselines3.common.evaluation import evaluate_policy\n",
    "from stable_baselines3.sac.policies import MlpPolicy\n",
    "from os.path import exists"
   ]
  },
  {
   "attachments": {},
   "cell_type": "markdown",
   "metadata": {},
   "source": [
    "<h3>Register and train source domain environment</h3>"
   ]
  },
  {
   "cell_type": "code",
   "execution_count": 30,
   "metadata": {},
   "outputs": [],
   "source": [
    "env = gym.make(\"CustomHopper-source-v0\")"
   ]
  },
  {
   "cell_type": "code",
   "execution_count": 34,
   "metadata": {},
   "outputs": [
    {
     "name": "stdout",
     "output_type": "stream",
     "text": [
      "Learning rate: 0.0003\n"
     ]
    }
   ],
   "source": [
    "if exists(\"SAC_source_env.zip\"):\n",
    "    model = SAC.load(\"SAC_source_env\")\n",
    "    print(f\"Learning rate source domain: {model.learning_rate}\")\n",
    "else:\n",
    "    model = SAC(MlpPolicy, env, verbose=1)\n",
    "    model.learn(total_timesteps = 50000, log_interval = 50)\n",
    "    model.save(\"SAC_source_env\")"
   ]
  },
  {
   "attachments": {},
   "cell_type": "markdown",
   "metadata": {},
   "source": [
    "<h3>Register and train target domain environment</h3>"
   ]
  },
  {
   "cell_type": "code",
   "execution_count": 35,
   "metadata": {},
   "outputs": [],
   "source": [
    "env = gym.make(\"CustomHopper-target-v0\")"
   ]
  },
  {
   "cell_type": "code",
   "execution_count": 37,
   "metadata": {},
   "outputs": [
    {
     "name": "stdout",
     "output_type": "stream",
     "text": [
      "Learning rate: target domain: 0.0003\n"
     ]
    }
   ],
   "source": [
    "if exists(\"SAC_target_env.zip\"):\n",
    "    model = SAC.load(\"SAC_target_env\")\n",
    "    print(f\"Learning rate: target domain: {model.learning_rate}\")\n",
    "else:\n",
    "    model = SAC(MlpPolicy, env, verbose=1)\n",
    "    model.learn(total_timesteps = 50000, log_interval = 50)\n",
    "    model.save(\"SAC_target_env\")"
   ]
  }
 ],
 "metadata": {
  "kernelspec": {
   "display_name": "Python 3",
   "language": "python",
   "name": "python3"
  },
  "language_info": {
   "codemirror_mode": {
    "name": "ipython",
    "version": 3
   },
   "file_extension": ".py",
   "mimetype": "text/x-python",
   "name": "python",
   "nbconvert_exporter": "python",
   "pygments_lexer": "ipython3",
   "version": "3.8.10"
  },
  "orig_nbformat": 4
 },
 "nbformat": 4,
 "nbformat_minor": 2
}
