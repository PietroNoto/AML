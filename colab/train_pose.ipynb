{
  "nbformat": 4,
  "nbformat_minor": 0,
  "metadata": {
    "colab": {
      "provenance": [],
      "gpuType": "T4"
    },
    "kernelspec": {
      "name": "python3",
      "display_name": "Python 3"
    },
    "language_info": {
      "name": "python"
    },
    "accelerator": "GPU"
  },
  "cells": [
    {
      "cell_type": "code",
      "source": [
        "!apt-get install -y \\\n",
        "    libgl1-mesa-dev \\\n",
        "    libgl1-mesa-glx \\\n",
        "    libglew-dev \\\n",
        "    libosmesa6-dev \\\n",
        "    software-properties-common\n",
        "\n",
        "!apt-get install -y patchelf\n",
        "\n",
        "!pip install 'shimmy>=0.2.1'\n",
        "#gym ↴\n",
        "!pip install git+https://github.com/openai/gym.git@bf4f23a1e405bc334d7658a8f2bce34efc54cb2b\n",
        "#!pip install git+https://github.com/openai/gym.git@9180d12e1b66e7e2a1a622614f787a6ec147ac40\n",
        "#!pip install \"gym==0.23\"\n",
        "!pip install free-mujoco-py\n",
        "!pip install \"stable-baselines3==1.7.0\"\n",
        "\n",
        "!pip install -U openmim\n",
        "!mim install mmengine\n",
        "!mim install \"mmcv>=2.0.1\"\n",
        "!mim install \"mmpose>=1.1.0\""
      ],
      "metadata": {
        "id": "IarCHO6PikRs"
      },
      "execution_count": null,
      "outputs": []
    },
    {
      "cell_type": "code",
      "source": [
        "!pip install gdown"
      ],
      "metadata": {
        "id": "xJUaG9H2c38Y"
      },
      "execution_count": null,
      "outputs": []
    },
    {
      "cell_type": "code",
      "source": [
        "!git clone --branch code-cleanup https://github.com/PietroNoto/AML\n",
        "!git clone https://github.com/open-mmlab/mmpose /content/AML/vision/mmpose"
      ],
      "metadata": {
        "id": "TDmwr_YCimrY"
      },
      "execution_count": null,
      "outputs": []
    },
    {
      "cell_type": "code",
      "source": [
        "!gdown https://drive.google.com/uc?id=1_D-03IVNWFkfMc5FLXlGEqpDNuctU0h6"
      ],
      "metadata": {
        "id": "ZsWVJ7iVcYMy"
      },
      "execution_count": null,
      "outputs": []
    },
    {
      "cell_type": "code",
      "source": [
        "!python3 /content/AML/main.py --output-dir pose_est_vec_env_1 --timesteps 10000 --lr-scheduling constant --lr 0.0003 --use-vision --use-pose-est --mmpose-config /content/AML/vision/hopper_config_colab.py --mmpose-checkpoint /content/epoch_100.pth"
      ],
      "metadata": {
        "id": "3ErVErH2J3zc"
      },
      "execution_count": null,
      "outputs": []
    }
  ]
}